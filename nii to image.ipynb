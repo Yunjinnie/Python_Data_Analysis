{
 "cells": [
  {
   "cell_type": "code",
   "execution_count": 31,
   "metadata": {},
   "outputs": [],
   "source": [
    "bs = 2\n",
    "num_epochs = 100\n",
    "learning_rate = 1e-3\n",
    "mom = 0.9\n",
    "import torch\n",
    "import torch.nn as nn\n",
    "import numpy as np\n",
    "import pandas as pd"
   ]
  },
  {
   "cell_type": "code",
   "execution_count": 2,
   "metadata": {},
   "outputs": [],
   "source": [
    "import torchvision\n",
    "import torchvision.transforms as tfms\n",
    "import torch.utils.data as data\n",
    "import matplotlib.pyplot as plt\n",
    "import torch.nn.functional as F"
   ]
  },
  {
   "cell_type": "code",
   "execution_count": 5,
   "metadata": {},
   "outputs": [],
   "source": [
    "import scipy as sc\n",
    "import os\n",
    "import seaborn as sns\n",
    "import PIL\n",
    "import PIL.Image as Image"
   ]
  },
  {
   "cell_type": "code",
   "execution_count": 6,
   "metadata": {},
   "outputs": [],
   "source": [
    "import warnings\n",
    "import nibabel as nib"
   ]
  },
  {
   "cell_type": "code",
   "execution_count": 59,
   "metadata": {},
   "outputs": [],
   "source": [
    "root_dir = 'C:/python_data/input/MCI_preprocessed/1year'\n",
    "data_dir = 'C:/python_data/input/roi_nii'"
   ]
  },
  {
   "cell_type": "code",
   "execution_count": 41,
   "metadata": {},
   "outputs": [],
   "source": [
    "class Dataloader_img(data.Dataset):\n",
    "    def __init__(self,root_dir,seg_dir,transforms):\n",
    "        self.root_dir = root_dir\n",
    "        self.seg_dir = seg_dir\n",
    "        self.transforms = transforms\n",
    "        self.files = os.listdir(self.root_dir)\n",
    "        self.lables = os.listdir(self.seg_dir)\n",
    "        print(self.files)\n",
    "\n",
    "    def __len__(self):\n",
    "        return len(self.files)\n",
    "\n",
    "    def __getitem__(self,idx):\n",
    "        img_name = self.files[idx]\n",
    "        label_name = self.lables[idx]\n",
    "        img = nib.load(os.path.join(self.root_dir,img_name))\n",
    "            \n",
    "        #change to numpy\n",
    "        img = np.array(img.dataobj)\n",
    "        #change to PIL\n",
    "        img = Image.fromarray(img.astype('uint8'), 'RGB')\n",
    "        print(img.size)\n",
    "        label = nib.load(os.path.join(self.seg_dir,label_name))\n",
    "        #change to numpy\n",
    "        label = np.array(label.dataobj)\n",
    "        #change to PIL\n",
    "        label = Image.fromarray(label.astype('uint8'), 'RGB')\n",
    "        print(label.size)\n",
    "        if self.transforms:\n",
    "            img = self.transforms(img)\n",
    "            label = self.transforms(label)\n",
    "            return img,label\n",
    "        else:\n",
    "            return img, label"
   ]
  },
  {
   "cell_type": "code",
   "execution_count": 51,
   "metadata": {
    "scrolled": true
   },
   "outputs": [
    {
     "name": "stdout",
     "output_type": "stream",
     "text": [
      "['s10wADNI_MCI_FDG_003_S_1057_00month.nii', 's10wADNI_MCI_FDG_003_S_1074_00month.nii', 's10wADNI_MCI_FDG_003_S_1122_00month.nii', 's10wADNI_MCI_FDG_005_S_0222_00month.nii', 's10wADNI_MCI_FDG_005_S_0546_00month.nii', 's10wADNI_MCI_FDG_005_S_1224_00month.nii', 's10wADNI_MCI_FDG_006_S_0675_00month.nii', 's10wADNI_MCI_FDG_006_S_1130_00month.nii', 's10wADNI_MCI_FDG_007_S_0101_00month.nii', 's10wADNI_MCI_FDG_007_S_0128_00month.nii', 's10wADNI_MCI_FDG_007_S_0293_00month.nii', 's10wADNI_MCI_FDG_007_S_0344_00month.nii', 's10wADNI_MCI_FDG_007_S_0414_00month.nii', 's10wADNI_MCI_FDG_007_S_0698_00month.nii', 's10wADNI_MCI_FDG_010_S_0161_00month.nii', 's10wADNI_MCI_FDG_010_S_0422_00month.nii', 's10wADNI_MCI_FDG_010_S_0904_00month.nii', 's10wADNI_MCI_FDG_011_S_0326_00month.nii', 's10wADNI_MCI_FDG_011_S_0362_00month.nii', 's10wADNI_MCI_FDG_011_S_0861_00month.nii', 's10wADNI_MCI_FDG_011_S_1282_00month.nii', 's10wADNI_MCI_FDG_012_S_0634_00month.nii', 's10wADNI_MCI_FDG_012_S_0932_00month.nii', 's10wADNI_MCI_FDG_012_S_1165_00month.nii', 's10wADNI_MCI_FDG_013_S_0240_00month.nii', 's10wADNI_MCI_FDG_013_S_0325_00month.nii', 's10wADNI_MCI_FDG_013_S_1120_00month.nii', 's10wADNI_MCI_FDG_013_S_1186_00month.nii', 's10wADNI_MCI_FDG_016_S_1028_00month.nii', 's10wADNI_MCI_FDG_016_S_1092_00month.nii', 's10wADNI_MCI_FDG_018_S_0057_00month.nii', 's10wADNI_MCI_FDG_021_S_0141_00month.nii', 's10wADNI_MCI_FDG_021_S_0178_00month.nii', 's10wADNI_MCI_FDG_021_S_0231_00month.nii', 's10wADNI_MCI_FDG_021_S_0424_00month.nii', 's10wADNI_MCI_FDG_021_S_0626_00month.nii', 's10wADNI_MCI_FDG_022_S_0544_00month.nii', 's10wADNI_MCI_FDG_022_S_0961_00month.nii', 's10wADNI_MCI_FDG_022_S_1351_00month.nii', 's10wADNI_MCI_FDG_022_S_1394_00month.nii', 's10wADNI_MCI_FDG_024_S_1393_00month.nii', 's10wADNI_MCI_FDG_027_S_0408_00month.nii', 's10wADNI_MCI_FDG_029_S_1073_00month.nii', 's10wADNI_MCI_FDG_029_S_1215_00month.nii', 's10wADNI_MCI_FDG_029_S_1218_00month.nii', 's10wADNI_MCI_FDG_029_S_1318_00month.nii', 's10wADNI_MCI_FDG_031_S_0294_00month.nii', 's10wADNI_MCI_FDG_032_S_0214_00month.nii', 's10wADNI_MCI_FDG_032_S_0978_00month.nii', 's10wADNI_MCI_FDG_033_S_0511_00month.nii', 's10wADNI_MCI_FDG_033_S_0513_00month.nii', 's10wADNI_MCI_FDG_033_S_0567_00month.nii', 's10wADNI_MCI_FDG_033_S_0723_00month.nii', 's10wADNI_MCI_FDG_033_S_0906_00month.nii', 's10wADNI_MCI_FDG_035_S_0033_00month.nii', 's10wADNI_MCI_FDG_035_S_0204_00month.nii', 's10wADNI_MCI_FDG_035_S_0292_00month.nii', 's10wADNI_MCI_FDG_035_S_0997_00month.nii', 's10wADNI_MCI_FDG_036_S_0656_00month.nii', 's10wADNI_MCI_FDG_036_S_0673_00month.nii', 's10wADNI_MCI_FDG_036_S_0748_00month.nii', 's10wADNI_MCI_FDG_036_S_0945_00month.nii', 's10wADNI_MCI_FDG_036_S_0976_00month.nii', 's10wADNI_MCI_FDG_036_S_1135_00month.nii', 's10wADNI_MCI_FDG_036_S_1240_00month.nii', 's10wADNI_MCI_FDG_037_S_0150_00month.nii', 's10wADNI_MCI_FDG_037_S_0377_00month.nii', 's10wADNI_MCI_FDG_037_S_0552_00month.nii', 's10wADNI_MCI_FDG_037_S_0566_00month.nii', 's10wADNI_MCI_FDG_037_S_1078_00month.nii', 's10wADNI_MCI_FDG_041_S_0598_00month.nii', 's10wADNI_MCI_FDG_041_S_0679_00month.nii', 's10wADNI_MCI_FDG_041_S_1010_00month.nii', 's10wADNI_MCI_FDG_041_S_1260_00month.nii', 's10wADNI_MCI_FDG_041_S_1418_00month.nii', 's10wADNI_MCI_FDG_041_S_1425_00month.nii', 's10wADNI_MCI_FDG_052_S_1346_00month.nii', 's10wADNI_MCI_FDG_053_S_0389_00month.nii', 's10wADNI_MCI_FDG_053_S_0621_00month.nii', 's10wADNI_MCI_FDG_053_S_0919_00month.nii', 's10wADNI_MCI_FDG_057_S_0464_00month.nii', 's10wADNI_MCI_FDG_057_S_0941_00month.nii', 's10wADNI_MCI_FDG_057_S_1007_00month.nii', 's10wADNI_MCI_FDG_057_S_1217_00month.nii', 's10wADNI_MCI_FDG_057_S_1265_00month.nii', 's10wADNI_MCI_FDG_062_S_1299_00month.nii', 's10wADNI_MCI_FDG_072_S_1211_00month.nii', 's10wADNI_MCI_FDG_072_S_1380_00month.nii', 's10wADNI_MCI_FDG_073_S_0746_00month.nii', 's10wADNI_MCI_FDG_073_S_0909_00month.nii', 's10wADNI_MCI_FDG_094_S_1188_00month.nii', 's10wADNI_MCI_FDG_094_S_1314_00month.nii', 's10wADNI_MCI_FDG_099_S_0051_00month.nii', 's10wADNI_MCI_FDG_099_S_0054_00month.nii', 's10wADNI_MCI_FDG_099_S_0291_00month.nii', 's10wADNI_MCI_FDG_099_S_0551_00month.nii', 's10wADNI_MCI_FDG_099_S_1034_00month.nii', 's10wADNI_MCI_FDG_100_S_0930_00month.nii', 's10wADNI_MCI_FDG_100_S_0995_00month.nii', 's10wADNI_MCI_FDG_109_S_0950_00month.nii', 's10wADNI_MCI_FDG_109_S_1114_00month.nii', 's10wADNI_MCI_FDG_114_S_0378_00month.nii', 's10wADNI_MCI_FDG_114_S_1106_00month.nii', 's10wADNI_MCI_FDG_114_S_1118_00month.nii', 's10wADNI_MCI_FDG_116_S_0361_00month.nii', 's10wADNI_MCI_FDG_126_S_0865_00month.nii', 's10wADNI_MCI_FDG_126_S_1077_00month.nii', 's10wADNI_MCI_FDG_127_S_0112_00month.nii', 's10wADNI_MCI_FDG_127_S_0394_00month.nii', 's10wADNI_MCI_FDG_127_S_0925_00month.nii', 's10wADNI_MCI_FDG_127_S_1032_00month.nii', 's10wADNI_MCI_FDG_127_S_1419_00month.nii', 's10wADNI_MCI_FDG_127_S_1427_00month.nii', 's10wADNI_MCI_FDG_128_S_0135_00month.nii', 's10wADNI_MCI_FDG_128_S_0138_00month.nii', 's10wADNI_MCI_FDG_128_S_0188_00month.nii', 's10wADNI_MCI_FDG_128_S_0200_00month.nii', 's10wADNI_MCI_FDG_128_S_0205_00month.nii', 's10wADNI_MCI_FDG_128_S_0225_00month.nii', 's10wADNI_MCI_FDG_128_S_0227_00month.nii', 's10wADNI_MCI_FDG_128_S_0258_00month.nii', 's10wADNI_MCI_FDG_128_S_0608_00month.nii', 's10wADNI_MCI_FDG_128_S_0947_00month.nii', 's10wADNI_MCI_FDG_128_S_1406_00month.nii', 's10wADNI_MCI_FDG_128_S_1407_00month.nii', 's10wADNI_MCI_FDG_128_S_1408_00month.nii', 's10wADNI_MCI_FDG_129_S_1246_00month.nii', 's10wADNI_MCI_FDG_130_S_0285_00month.nii', 's10wADNI_MCI_FDG_130_S_0289_00month.nii', 's10wADNI_MCI_FDG_130_S_0783_00month.nii', 's10wADNI_MCI_FDG_136_S_0695_00month.nii', 's10wADNI_MCI_FDG_137_S_0443_00month.nii', 's10wADNI_MCI_FDG_137_S_0481_00month.nii', 's10wADNI_MCI_FDG_137_S_0669_00month.nii', 's10wADNI_MCI_FDG_137_S_0722_00month.nii', 's10wADNI_MCI_FDG_137_S_0800_00month.nii', 's10wADNI_MCI_FDG_137_S_0973_00month.nii', 's10wADNI_MCI_FDG_137_S_0994_00month.nii', 's10wADNI_MCI_FDG_137_S_1414_00month.nii', 's10wADNI_MCI_FDG_941_S_1311_00month.nii']\n"
     ]
    }
   ],
   "source": [
    "full_dataset = Dataloader_img(root_dir,data_dir,tfms.Compose([tfms.RandomRotation(180),tfms.ToTensor()]))"
   ]
  },
  {
   "cell_type": "code",
   "execution_count": 52,
   "metadata": {},
   "outputs": [],
   "source": [
    "train_size = int(0.8 * len(full_dataset))\n",
    "val_size = len(full_dataset) - train_size\n",
    "train_dataset, val_dataset = torch.utils.data.random_split(full_dataset, [train_size, val_size])\n",
    "train_loader = data.DataLoader(train_dataset,shuffle=False,batch_size=bs)\n",
    "val_loader = data.DataLoader(val_dataset,shuffle=False,batch_size=bs)"
   ]
  },
  {
   "cell_type": "code",
   "execution_count": 53,
   "metadata": {},
   "outputs": [
    {
     "name": "stdout",
     "output_type": "stream",
     "text": [
      "(109, 91)\n",
      "(109, 91)\n",
      "torch.Size([91, 109])\n"
     ]
    },
    {
     "data": {
      "image/png": "[encoded data removed]",
      "text/plain": [
       "<Figure size 432x288 with 1 Axes>"
      ]
     },
     "metadata": {
      "needs_background": "light"
     },
     "output_type": "display_data"
    }
   ],
   "source": [
    "test_img, test_lb = next(iter(full_dataset))\n",
    "print(test_img[1].shape)\n",
    "plt.imshow(test_img[0])\n",
    "plt.show()"
   ]
  },
  {
   "cell_type": "code",
   "execution_count": 63,
   "metadata": {},
   "outputs": [],
   "source": [
    "root_dir = 'C:/python_data/input/roi_nii'\n",
    "data_dir = 'C:/python_data/input/roi_nii'"
   ]
  },
  {
   "cell_type": "code",
   "execution_count": 64,
   "metadata": {
    "scrolled": true
   },
   "outputs": [
    {
     "name": "stdout",
     "output_type": "stream",
     "text": [
      "['001_Olfactory_R_018.nii', '002_Rectus_R_024.nii', '003_OFClat_R_032.nii', '004_OFCant_R_028.nii', '005_OFCmed_R_026.nii', '006_OFCpost_R_030.nii', '007_Frontal_Inf_Orb_2_R_012.nii', '008_Frontal_Med_Orb_R_022.nii', '009_Frontal_Inf_Tri_R_010.nii', '010_Frontal_Inf_Oper_R_008.nii', '011_Frontal_Mid_2_R_006.nii', '012_Frontal_Sup_Medial_R_020.nii', '013_Frontal_Sup_2_R_004.nii', '014_Supp_Motor_Area_R_016.nii', '015_Precentral_R_002.nii', '016_Paracentral_Lobule_R_074.nii', '017_Postcentral_R_062.nii', '018_Parietal_Sup_R_064.nii', '019_Parietal_Inf_R_066.nii', '020_SupraMarginal_R_068.nii', '021_Angular_R_070.nii', '022_Precuneus_R_072.nii', '023_ACC_sub_R_152.nii', '024_ACC_pre_R_154.nii', '025_ACC_sup_R_156.nii', '026_Cingulate_Mid_R_038.nii', '027_Cingulate_Post_R_040.nii', '028_Hippocampus_R_042.nii', '029_ParaHippocampal_R_044.nii', '030_Amygdala_R_046.nii', '031_Caudate_R_076.nii', '032_Putamen_R_078.nii', '033_Pallidum_R_080.nii', '034_N_Acc_R_158.nii', '035_VTA_R_160.nii', '036_SN_pc_R_162.nii', '037_SN_pr_R_164.nii', '038_Red_N_R_166.nii', '039_LC_R_168.nii', '040_Raphe_M_170.nii', '041_Thal_AV_R_122.nii', '042_Thal_LP_R_124.nii', '043_Thal_VA_R_126.nii', '044_Thal_VL_R_128.nii', '045_Thal_VPL_R_130.nii', '046_Thal_IL_R_132.nii', '047_Thal_Re_R_134.nii', '048_Thal_MDm_R_136.nii', '049_Thal_MDl_R_138.nii', '050_Thal_LGN_R_140.nii', '051_Thal_MGN_R_142.nii', '052_Thal_PuI_R_144.nii', '053_Thal_PuM_R_146.nii', '054_Thal_PuA_R_148.nii', '055_Thal_PuL_R_150.nii', '056_Rolandic_Oper_R_014.nii', '057_Insula_R_034.nii', '058_Heschl_R_084.nii', '059_Temporal_Sup_R_086.nii', '060_Temporal_Pole_Sup_R_088.nii', '061_Temporal_Mid_R_090.nii', '062_Temporal_Pole_Mid_R_092.nii', '063_Temporal_Inf_R_094.nii', '064_Fusiform_R_060.nii', '065_Calcarine_R_048.nii', '066_Cuneus_R_050.nii', '067_Lingual_R_052.nii', '068_Occipital_Sup_R_054.nii', '069_Occipital_Mid_R_056.nii', '070_Occipital_Inf_R_058.nii', '071_Cerebellum_Crus1_R_096.nii', '072_Cerebellum_Crus2_R_098.nii', '073_Cerebellum_3_R_100.nii', '074_Cerebellum_4_5_R_102.nii', '075_Cerebellum_6_R_104.nii', '076_Cerebellum_7b_R_106.nii', '077_Cerebellum_8_R_108.nii', '078_Cerebellum_9_R_110.nii', '079_Cerebellum_10_R_112.nii', '080_Vermis_1_2_113.nii', '081_Vermis_3_114.nii', '082_Vermis_4_5_115.nii', '083_Vermis_6_116.nii', '084_Vermis_7_117.nii', '085_Vermis_8_118.nii', '086_Vermis_9_119.nii', '087_Vermis_10_120.nii', '088_Cerebellum_10_L_111.nii', '089_Cerebellum_9_L_109.nii', '090_Cerebellum_8_L_107.nii', '091_Cerebellum_7b_L_105.nii', '092_Cerebellum_6_L_103.nii', '093_Cerebellum_4_5_L_101.nii', '094_Cerebellum_3_L_099.nii', '095_Cerebellum_Crus2_L_097.nii', '096_Cerebellum_Crus1_L_095.nii', '097_Occipital_Inf_L_057.nii', '098_Occipital_Mid_L_055.nii', '099_Occipital_Sup_L_053.nii', '100_Lingual_L_051.nii', '101_Cuneus_L_049.nii', '102_Calcarine_L_047.nii', '103_Fusiform_L_059.nii', '104_Temporal_Inf_L_093.nii', '105_Temporal_Pole_Mid_L_091.nii', '106_Temporal_Mid_L_089.nii', '107_Temporal_Pole_Sup_L_087.nii', '108_Temporal_Sup_L_085.nii', '109_Rolandic_Oper_L_013.nii', '110_Insula_L_033.nii', '111_Heschl_L_083.nii', '112_Thal_PuL_L_149.nii', '113_Thal_PuA_L_147.nii', '114_Thal_PuM_L_145.nii', '115_Thal_PuI_L_143.nii', '116_Thal_MGN_L_141.nii', '117_Thal_LGN_L_139.nii', '118_Thal_MDl_L_137.nii', '119_Thal_MDm_L_135.nii', '120_Thal_Re_L_133.nii', '121_Thal_IL_L_131.nii', '122_Thal_VPL_L_129.nii', '123_Thal_VL_L_127.nii', '124_Thal_VA_L_125.nii', '125_Thal_LP_L_123.nii', '126_Thal_AV_L_121.nii', '127_Raphe_D_169.nii', '128_LC_L_167.nii', '129_Red_N_L_165.nii', '130_SN_pr_L_163.nii', '131_SN_pc_L_161.nii', '132_VTA_L_159.nii', '133_N_Acc_L_157.nii', '134_Pallidum_L_079.nii', '135_Putamen_L_077.nii', '136_Caudate_L_075.nii', '137_Amygdala_L_045.nii', '138_ParaHippocampal_L_043.nii', '139_Hippocampus_L_041.nii', '140_Cingulate_Post_L_039.nii', '141_Cingulate_Mid_L_037.nii', '142_ACC_sup_L_155.nii', '143_ACC_pre_L_153.nii', '144_ACC_sub_L_151.nii', '145_Precuneus_L_71.nii', '146_Angular_L_069.nii', '147_SupraMarginal_L_067.nii', '148_Parietal_Inf_L_065.nii', '149_Parietal_Sup_L_063.nii', '150_Postcentral_L_061.nii', '151_Paracentral_Lobule_L_073.nii', '152_Precentral_L_001.nii', '153_Supp_Motor_Area_L_015.nii', '154_Frontal_Sup_2_L_003.nii', '155_Frontal_Sup_Medial_L_019.nii', '156_Frontal_Mid_2_L_005.nii', '157_Frontal_Inf_Oper_L_007.nii', '158_Frontal_Inf_Tri_L_009.nii', '159_Frontal_Med_Orb_L_021.nii', '160_Frontal_Inf_Orb_2_L_011.nii', '161_OFCpost_L_029.nii', '162_OFCmed_L_025.nii', '163_OFCant_L_027.nii', '164_OFClat_L_031.nii', '165_Rectus_L_023.nii', '166_Olfactory_L_017.nii']\n"
     ]
    }
   ],
   "source": [
    "full_dataset = Dataloader_img(root_dir,data_dir,tfms.Compose([tfms.RandomRotation(180),tfms.ToTensor()]))"
   ]
  },
  {
   "cell_type": "code",
   "execution_count": 65,
   "metadata": {},
   "outputs": [],
   "source": [
    "train_size = int(0.8 * len(full_dataset))\n",
    "val_size = len(full_dataset) - train_size\n",
    "train_dataset, val_dataset = torch.utils.data.random_split(full_dataset, [train_size, val_size])\n",
    "train_loader = data.DataLoader(train_dataset,shuffle=False,batch_size=bs)\n",
    "val_loader = data.DataLoader(val_dataset,shuffle=False,batch_size=bs)"
   ]
  },
  {
   "cell_type": "code",
   "execution_count": 71,
   "metadata": {},
   "outputs": [
    {
     "name": "stdout",
     "output_type": "stream",
     "text": [
      "(109, 91)\n",
      "(109, 91)\n",
      "torch.Size([91, 109])\n"
     ]
    },
    {
     "data": {
      "image/png": "[encoded data removed]",
      "text/plain": [
       "<Figure size 432x288 with 1 Axes>"
      ]
     },
     "metadata": {
      "needs_background": "light"
     },
     "output_type": "display_data"
    }
   ],
   "source": [
    "test_img, test_lb = next(iter(full_dataset))\n",
    "print(test_img[0].shape)\n",
    "plt.imshow(test_img[0])\n",
    "plt.show()"
   ]
  }
 ],
 "metadata": {
  "kernelspec": {
   "display_name": "Python 3",
   "language": "python",
   "name": "python3"
  },
  "language_info": {
   "codemirror_mode": {
    "name": "ipython",
    "version": 3
   },
   "file_extension": ".py",
   "mimetype": "text/x-python",
   "name": "python",
   "nbconvert_exporter": "python",
   "pygments_lexer": "ipython3",
   "version": "3.8.5"
  }
 },
 "nbformat": 4,
 "nbformat_minor": 4
}
